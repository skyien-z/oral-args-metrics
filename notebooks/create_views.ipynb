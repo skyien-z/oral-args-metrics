{
 "cells": [
  {
   "cell_type": "markdown",
   "id": "18828d6c-9fed-432a-b991-9ce8328c3fed",
   "metadata": {},
   "source": [
    "Create view between transcript and context tables"
   ]
  },
  {
   "cell_type": "code",
   "execution_count": 10,
   "id": "beb0f0af-ea24-4aad-ab32-b91b268972d8",
   "metadata": {},
   "outputs": [],
   "source": [
    "import pandas as pd\n",
    "import sqlite3\n",
    "\n",
    "def create_transcript_context_view(new_view_name, transcript_table, context_table):\n",
    "    write_conn = sqlite3.connect(\"../automated_metrics.db\")\n",
    "    write_conn.execute(\"PRAGMA foreign_keys = 1\")\n",
    "    cur = write_conn.cursor()\n",
    "    \n",
    "    create_view_sql = f\"\"\"\n",
    "    CREATE VIEW IF NOT EXISTS {new_view_name} AS\n",
    "    SELECT transcript.transcript_id as transcript_id,\n",
    "        {transcript_table}.case_facts as case_facts,\n",
    "        {transcript_table}.legal_question as legal_question,\n",
    "        {context_table}.context_id as context_id,\n",
    "        {context_table}.context as context,\n",
    "        {context_table}.justice as justice,\n",
    "        {context_table}.turn_text as turn_text\n",
    "    FROM {transcript_table}\n",
    "    JOIN {context_table} ON {transcript_table}.transcript_id = {context_table}.transcript_id;\n",
    "    \"\"\"\n",
    "\n",
    "    cur.execute(create_view_sql)\n",
    "    write_conn.commit()\n",
    "    write_conn.close()\n",
    "\n",
    "create_transcript_context_view(\"transcript_and_context\", \"transcript\", \"context\")"
   ]
  },
  {
   "cell_type": "markdown",
   "id": "3e6b1e59-143b-4c0d-b146-1585e23a550b",
   "metadata": {},
   "source": [
    "Make sampled context table"
   ]
  },
  {
   "cell_type": "code",
   "execution_count": 4,
   "id": "e76c6508-455d-41de-99f4-59e5c65e3c9f",
   "metadata": {},
   "outputs": [
    {
     "data": {
      "text/plain": [
       "<sqlite3.Cursor at 0x14f6f6f1aac0>"
      ]
     },
     "execution_count": 4,
     "metadata": {},
     "output_type": "execute_result"
    }
   ],
   "source": [
    "import pandas as pd\n",
    "import sqlite3\n",
    "write_conn = sqlite3.connect(\"../automated_metrics.db\")\n",
    "write_conn.execute(\"PRAGMA foreign_keys = 1\")\n",
    "cur = write_conn.cursor()\n",
    "\n",
    "cur.execute(\"CREATE TABLE IF NOT EXISTS hundred_sampled_context(context_id TEXT PRIMARY KEY, \" \\\n",
    "            \"context TEXT, \" \\\n",
    "            \"justice TEXT, \" \\\n",
    "            \"turn_text TEXT, \" \\\n",
    "            \"transcript_id TEXT, \" \\\n",
    "            \"FOREIGN KEY (transcript_id) REFERENCES transcript(transcript_id) ON DELETE CASCADE);\")\n",
    "\n",
    "df = pd.read_sql_query(\"SELECT * FROM context;\", write_conn)\n",
    "sampled_elements = df.sample(n=100)\n",
    "sampled_elements.to_sql('hundred_sampled_context', write_conn, if_exists='append', index=False)\n",
    "write_conn.close()"
   ]
  },
  {
   "cell_type": "markdown",
   "id": "3fedafb9-140c-4989-a5e2-8c6a69b4a705",
   "metadata": {},
   "source": [
    "Make view for all transcripts and the sampled contexts"
   ]
  },
  {
   "cell_type": "code",
   "execution_count": 11,
   "id": "5bdbd834-995c-4672-b51e-0d6de6c83696",
   "metadata": {},
   "outputs": [],
   "source": [
    "create_transcript_context_view(\"hundred_sampled_transcript_and_context\", \"transcript\", \"hundred_sampled_context\")"
   ]
  },
  {
   "cell_type": "markdown",
   "id": "4b0e1f72-d411-4675-86ca-077debc14b51",
   "metadata": {},
   "source": [
    "Create view for metrics jobs"
   ]
  },
  {
   "cell_type": "code",
   "execution_count": 3,
   "id": "696b85ae-1025-4d76-83a4-5b5fbc9ab6b7",
   "metadata": {},
   "outputs": [],
   "source": [
    "write_conn = sqlite3.connect(\"../automated_metrics.db\")\n",
    "write_conn.execute(\"PRAGMA foreign_keys = ON;\")\n",
    "cur = write_conn.cursor()\n",
    "\n",
    "df = pd.read_sql_query(\"SELECT * FROM remark;\", write_conn)\n",
    "remark_table = \"remark\"\n",
    "context_table = \"context\"\n",
    "transcript_table = \"transcript\"\n",
    "create_view_sql = f\"\"\"CREATE VIEW IF NOT EXISTS remark_transcript_context AS\n",
    "SELECT\n",
    "    {remark_table}.remark_id as remark_id,\n",
    "    {remark_table}.justice as justice,\n",
    "    {remark_table}.remark_text as remark_text,\n",
    "    {remark_table}.log_id as remark_log_id,\n",
    "    {context_table}.context as context,\n",
    "    {transcript_table}.case_facts as case_facts,\n",
    "    {transcript_table}.legal_question as legal_question\n",
    "FROM remark\n",
    "JOIN context ON remark.context_id = context.context_id\n",
    "JOIN transcript ON context.transcript_id = transcript.transcript_id;\n",
    "\"\"\"\n",
    "cur.execute(create_view_sql)\n",
    "write_conn.commit()\n",
    "write_conn.close()"
   ]
  },
  {
   "cell_type": "code",
   "execution_count": 16,
   "id": "abcb137a-f936-4fe1-9ac7-6e384253ed76",
   "metadata": {},
   "outputs": [],
   "source": [
    "write_conn = sqlite3.connect(\"../automated_metrics.db\")\n",
    "write_conn.execute(\"PRAGMA foreign_keys = ON;\")\n",
    "cur = write_conn.cursor()\n",
    "\n",
    "df = pd.read_sql_query(\"SELECT * FROM remark;\", write_conn)"
   ]
  },
  {
   "cell_type": "code",
   "execution_count": 15,
   "id": "e88694c2-57aa-4700-bdbc-064e2b89eb0d",
   "metadata": {},
   "outputs": [
    {
     "data": {
      "text/plain": [
       "'CREATE VIEW IF NOT EXISTS remark_transcript_context AS\\nSELECT\\n    remark.remark_id as remark_id,\\n    remark.justice as justice,\\n    remark.remark_text as remark_text,\\n    context.context as context,\\n    transcript.case_facts as case_facts,\\n    transcript.legal_question as legal_question\\nFROM remark\\nJOIN context ON remark.context_id = context.context_id\\nJOIN transcript ON context.transcript_id = transcript.transcript_id;\\n'"
      ]
     },
     "execution_count": 15,
     "metadata": {},
     "output_type": "execute_result"
    }
   ],
   "source": [
    "remark_table = \"remark\"\n",
    "context_table = \"context\"\n",
    "transcript_table = \"transcript\"\n",
    "create_view_sql = f\"\"\"CREATE VIEW IF NOT EXISTS remark_transcript_context AS\n",
    "SELECT\n",
    "    {remark_table}.remark_id as remark_id,\n",
    "    {remark_table}.justice as justice,\n",
    "    {remark_table}.remark_text as remark_text,\n",
    "    {remark_table}.log_id as remark_log_id,\n",
    "    {context_table}.context as context,\n",
    "    {transcript_table}.case_facts as case_facts,\n",
    "    {transcript_table}.legal_question as legal_question\n",
    "FROM remark\n",
    "JOIN context ON remark.context_id = context.context_id\n",
    "JOIN transcript ON context.transcript_id = transcript.transcript_id;\n",
    "\"\"\"\n",
    "\n",
    "create_view_sql"
   ]
  },
  {
   "cell_type": "code",
   "execution_count": null,
   "id": "b90e99bd-b3b9-403b-8e49-fa3c46f7ad36",
   "metadata": {},
   "outputs": [],
   "source": []
  }
 ],
 "metadata": {
  "kernelspec": {
   "display_name": "llama_finetuning_env [~/.conda/envs/llama_finetuning_env/]",
   "language": "python",
   "name": "conda_llama_finetuning_env"
  },
  "language_info": {
   "codemirror_mode": {
    "name": "ipython",
    "version": 3
   },
   "file_extension": ".py",
   "mimetype": "text/x-python",
   "name": "python",
   "nbconvert_exporter": "python",
   "pygments_lexer": "ipython3",
   "version": "3.11.11"
  }
 },
 "nbformat": 4,
 "nbformat_minor": 5
}
