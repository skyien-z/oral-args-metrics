{
 "cells": [
  {
   "cell_type": "code",
   "execution_count": null,
   "id": "01bc3e42-d431-4bf7-bf4b-ef7fc41b56dd",
   "metadata": {},
   "outputs": [],
   "source": [
    "import pandas as pd\n",
    "import sqlite3\n",
    "from datetime import datetime\n",
    "import hashlib\n",
    "\n",
    "def make_remark_id(model_name, strategy):\n",
    "    unique_string = f\"{model_name}_{strategy}_{datetime.now()}\"\n",
    "    return hashlib.md5(unique_string.encode()).hexdigest()\n",
    "    \n",
    "conn = sqlite3.connect(\"../data/automated_metrics.db\")\n",
    "conn.execute(\"PRAGMA foreign_keys = ON;\")\n",
    "cursor = conn.cursor()\n",
    "\n",
    "cases_df = pd.read_sql_query(\"SELECT * from hundred_sampled_transcript_and_context;\", conn)\n",
    "remark_addition_query = \"INSERT INTO remark (remark_id, model, prompting_strategy, justice, \" \\\n",
    "                        \"remark_text, log_id, context_id) VALUES (?, ?, ?, ?, ?, ?, ?)\"\n",
    "additional_remarks = []\n",
    "for index, row in cases_df.iterrows():\n",
    "    generated_remark = row['turn_text']\n",
    "    model_name = 'actual_text'\n",
    "    log_id = 'manual'\n",
    "    strategy = None\n",
    "    remark_id = make_remark_id(model_name, strategy)\n",
    "    additional_remarks.append((remark_id, model_name, strategy, row[\"justice\"], generated_remark, \n",
    "                               log_id, row[\"context_id\"]))\n",
    "\n",
    "cursor.executemany(remark_addition_query, additional_remarks)\n",
    "conn.commit()\n",
    "cursor.close()\n",
    "conn.close()"
   ]
  }
 ],
 "metadata": {
  "kernelspec": {
   "display_name": "llama_finetuning_env [~/.conda/envs/llama_finetuning_env/]",
   "language": "python",
   "name": "conda_llama_finetuning_env"
  },
  "language_info": {
   "codemirror_mode": {
    "name": "ipython",
    "version": 3
   },
   "file_extension": ".py",
   "mimetype": "text/x-python",
   "name": "python",
   "nbconvert_exporter": "python",
   "pygments_lexer": "ipython3",
   "version": "3.11.11"
  }
 },
 "nbformat": 4,
 "nbformat_minor": 5
}
