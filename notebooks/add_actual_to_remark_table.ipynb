{
 "cells": [
  {
   "cell_type": "code",
   "execution_count": null,
   "id": "01bc3e42-d431-4bf7-bf4b-ef7fc41b56dd",
   "metadata": {},
   "outputs": [],
   "source": [
    "import pandas as pd\n",
    "import sqlite3\n",
    "from datetime import datetime\n",
    "import hashlib\n",
    "\n",
    "def make_remark_id(model_name, strategy):\n",
    "    unique_string = f\"{model_name}_{strategy}_{datetime.now()}\"\n",
    "    return hashlib.md5(unique_string.encode()).hexdigest()\n",
    "    \n",
    "conn = sqlite3.connect(\"../data/automated_metrics.db\")\n",
    "conn.execute(\"PRAGMA foreign_keys = ON;\")\n",
    "cursor = conn.cursor()\n",
    "\n",
    "cases_df = pd.read_sql_query(\"SELECT * from hundred_sampled_transcript_and_context;\", conn)\n",
    "remark_addition_query = \"INSERT INTO remark (remark_id, model, prompting_strategy, justice, \" \\\n",
    "                        \"remark_text, log_id, context_id) VALUES (?, ?, ?, ?, ?, ?, ?)\"\n",
    "additional_remarks = []\n",
    "for index, row in cases_df.iterrows():\n",
    "    generated_remark = row['turn_text']\n",
    "    model_name = 'actual_text'\n",
    "    log_id = 'manual'\n",
    "    strategy = None\n",
    "    remark_id = make_remark_id(model_name, strategy)\n",
    "    additional_remarks.append((remark_id, model_name, strategy, row[\"justice\"], generated_remark, \n",
    "                               log_id, row[\"context_id\"]))\n",
    "\n",
    "cursor.executemany(remark_addition_query, additional_remarks)\n",
    "conn.commit()\n",
    "cursor.close()\n",
    "conn.close()"
   ]
  },
  {
   "cell_type": "markdown",
   "id": "621d951d-66dd-43e3-a787-82c078f70d30",
   "metadata": {},
   "source": [
    "For the adversarial metrics table"
   ]
  },
  {
   "cell_type": "code",
   "execution_count": 2,
   "id": "cde6b870-5ecd-43fe-bcf3-ebe914233ce9",
   "metadata": {},
   "outputs": [],
   "source": [
    "import pandas as pd\n",
    "import sqlite3\n",
    "from datetime import datetime\n",
    "import hashlib\n",
    "\n",
    "def make_remark_id(model_name, strategy):\n",
    "    unique_string = f\"{model_name}_{strategy}_{datetime.now()}\"\n",
    "    return hashlib.md5(unique_string.encode()).hexdigest()\n",
    "    \n",
    "conn = sqlite3.connect(\"../data/adversarial_metrics.db\")\n",
    "conn.execute(\"PRAGMA foreign_keys = ON;\")\n",
    "cursor = conn.cursor()\n",
    "\n",
    "cases_df = pd.read_sql_query(\"SELECT * from transcript_and_context;\", conn)\n",
    "remark_addition_query = \"INSERT INTO remark (remark_id, model, prompting_strategy, justice, \" \\\n",
    "                        \"remark_text, log_id, context_id) VALUES (?, ?, ?, ?, ?, ?, ?)\"\n",
    "additional_remarks = []\n",
    "for index, row in cases_df.iterrows():\n",
    "    generated_remark = row['turn_text']\n",
    "    model_name = 'actual_text'\n",
    "    log_id = 'manual'\n",
    "    strategy = None\n",
    "    remark_id = make_remark_id(model_name, strategy)\n",
    "    additional_remarks.append((remark_id, model_name, strategy, row[\"justice\"], generated_remark, \n",
    "                               log_id, row[\"context_id\"]))\n",
    "\n",
    "cursor.executemany(remark_addition_query, additional_remarks)\n",
    "conn.commit()\n",
    "cursor.close()\n",
    "conn.close()"
   ]
  },
  {
   "cell_type": "markdown",
   "id": "1137bff8-6a29-4e14-9307-4416e1c75bbb",
   "metadata": {},
   "source": [
    "Create adversarial metrics view"
   ]
  },
  {
   "cell_type": "code",
   "execution_count": 6,
   "id": "531d2059-bd50-4f8f-a622-903caaa1f26d",
   "metadata": {},
   "outputs": [],
   "source": [
    "write_conn = sqlite3.connect(\"../data/adversarial_metrics.db\")\n",
    "write_conn.execute(\"PRAGMA foreign_keys = ON;\")\n",
    "cur = write_conn.cursor()\n",
    "\n",
    "def create_remark_transcript_context_view(new_view_name, transcript_table, context_table, remark_table):\n",
    "    create_view_sql = f\"\"\"CREATE VIEW IF NOT EXISTS {new_view_name} AS\n",
    "    SELECT\n",
    "        {remark_table}.remark_id as remark_id,\n",
    "        {remark_table}.justice as justice,\n",
    "        {remark_table}.remark_text as remark_text,\n",
    "        {remark_table}.log_id as remark_log_id,\n",
    "        {context_table}.context as context,\n",
    "        {transcript_table}.case_facts as case_facts,\n",
    "        {transcript_table}.legal_question as legal_question\n",
    "    FROM remark\n",
    "    JOIN context ON remark.context_id = context.context_id\n",
    "    JOIN transcript ON context.transcript_id = transcript.transcript_id;\n",
    "    \"\"\"\n",
    "    cur.execute(create_view_sql)\n",
    "    write_conn.commit()\n",
    "\n",
    "create_remark_transcript_context_view(\"remark_transcript_context\", \"transcript\", \"context\", \"remark\")"
   ]
  },
  {
   "cell_type": "code",
   "execution_count": null,
   "id": "302140c9-9de4-44b5-a935-d8898c90f821",
   "metadata": {},
   "outputs": [],
   "source": []
  }
 ],
 "metadata": {
  "kernelspec": {
   "display_name": "llama_finetuning_env [~/.conda/envs/llama_finetuning_env/]",
   "language": "python",
   "name": "conda_llama_finetuning_env"
  },
  "language_info": {
   "codemirror_mode": {
    "name": "ipython",
    "version": 3
   },
   "file_extension": ".py",
   "mimetype": "text/x-python",
   "name": "python",
   "nbconvert_exporter": "python",
   "pygments_lexer": "ipython3",
   "version": "3.11.11"
  }
 },
 "nbformat": 4,
 "nbformat_minor": 5
}
