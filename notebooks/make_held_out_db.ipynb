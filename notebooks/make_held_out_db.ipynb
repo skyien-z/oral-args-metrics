{
 "cells": [
  {
   "cell_type": "code",
   "execution_count": 1,
   "id": "d60c6cce-7a02-48a3-aa94-591bc3bc7f2d",
   "metadata": {},
   "outputs": [],
   "source": [
    "import pandas as pd\n",
    "import sqlite3\n",
    "import json\n",
    "\n",
    "write_conn = sqlite3.connect(\"../data/metrics_full_run.db\")\n",
    "write_conn.execute(\"PRAGMA foreign_keys = 1\")\n",
    "cur = write_conn.cursor()"
   ]
  },
  {
   "cell_type": "code",
   "execution_count": 2,
   "id": "78919872-a7dd-407d-a955-bd6884562877",
   "metadata": {},
   "outputs": [
    {
     "data": {
      "text/plain": [
       "<sqlite3.Cursor at 0x152ccec61240>"
      ]
     },
     "execution_count": 2,
     "metadata": {},
     "output_type": "execute_result"
    }
   ],
   "source": [
    "cur.execute(\"CREATE TABLE IF NOT EXISTS context(context_id TEXT PRIMARY KEY, \" \\\n",
    "            \"context TEXT, \" \\\n",
    "            \"justice TEXT, \" \\\n",
    "            \"turn_text TEXT, \" \\\n",
    "            \"transcript_id TEXT, \" \\\n",
    "            \"FOREIGN KEY (transcript_id) REFERENCES transcript(transcript_id) ON DELETE CASCADE);\")\n",
    "\n",
    "cur.execute(\"CREATE TABLE IF NOT EXISTS transcript(transcript_id TEXT PRIMARY KEY, \" \\\n",
    "            \"case_facts TEXT, \" \\\n",
    "            \"legal_question TEXT, \" \\\n",
    "            \"conclusion TEXT);\")\n",
    "\n",
    "cur.execute(\"CREATE TABLE IF NOT EXISTS remark ( \" \\\n",
    "        \t\"remark_id TEXT PRIMARY KEY, \" \\\n",
    "        \t\"model TEXT, \" \\\n",
    "        \t\"prompting_strategy TEXT,\" \\\n",
    "        \t\"justice TEXT, \" \\\n",
    "        \t\"remark_text TEXT, \" \\\n",
    "        \t\"log_id TEXT, \" \\\n",
    "        \t\"context_id TEXT, \" \\\n",
    "        \t\"FOREIGN KEY (context_id) REFERENCES context(context_id));\")\n",
    "\n",
    "cur.execute(\"CREATE TABLE IF NOT EXISTS distributional_metrics ( \" \\\n",
    "        \t\"distributional_metric_id TEXT PRIMARY KEY, \" \\\n",
    "        \t\"classification_model TEXT, \" \\\n",
    "        \t\"metric_name TEXT, \" \\\n",
    "        \t\"classification TEXT, \" \\\n",
    "        \t\"remark_id TEXT, \" \\\n",
    "        \t\"log_id TEXT, \" \\\n",
    "        \t\"FOREIGN KEY (remark_id) REFERENCES remark(remark_id));\")\n",
    "\n",
    "cur.execute(\"CREATE TABLE IF NOT EXISTS comparative_metrics ( \" \\\n",
    "        \t\"comparative_metric_id TEXT PRIMARY KEY, \" \\\n",
    "        \t\"classification_model TEXT, \" \\\n",
    "        \t\"metric_name TEXT, \" \\\n",
    "        \t\"classification TEXT, \" \\\n",
    "        \t\"remark1_id TEXT REFERENCES remark(remark_id), \" \\\n",
    "            \"remark2_id TEXT REFERENCES remark(remark_id), \" \\\n",
    "        \t\"log_id TEXT);\")"
   ]
  },
  {
   "cell_type": "code",
   "execution_count": 4,
   "id": "d75550c0-d6ca-4bcd-ab19-10ea23075ed3",
   "metadata": {},
   "outputs": [],
   "source": [
    "def restructure_context(context_as_string):\n",
    "    context_as_list = json.loads(context_as_string)\n",
    "    restructured_context_list = []\n",
    "    for turn in context_as_list:\n",
    "        if turn[\"speaker\"][\"role\"] == \"scotus_justice\":\n",
    "            role_text = turn[\"speaker\"][\"name\"]\n",
    "        else:\n",
    "            role_text = turn[\"speaker\"][\"side\"]\n",
    "        restructured_turn = {\"content\": turn[\"text\"], \"role\": role_text}\n",
    "        restructured_context_list.append(restructured_turn)\n",
    "    return str(restructured_context_list)"
   ]
  },
  {
   "cell_type": "code",
   "execution_count": 5,
   "id": "33a3625b-8694-421d-a8ec-2e91b86204ac",
   "metadata": {},
   "outputs": [],
   "source": [
    "read_conn = sqlite3.connect(\"../data/raw_data/transcripts_raw.db\")\n",
    "transcripts_df = pd.read_sql_query(\"SELECT * from transcript WHERE CAST(SUBSTR(transcript_id, 1, 4) AS INTEGER) > 2023;\", read_conn)\n",
    "contexts_df = pd.read_sql_query(\"SELECT * from context WHERE CAST(SUBSTR(context_id, 1, 4) AS INTEGER) > 2023 AND turn_text LIKE '% % % %';\", read_conn)\n",
    "\n",
    "# reformat the context column\n",
    "contexts_df[\"context\"] = contexts_df[\"context\"].apply(restructure_context)"
   ]
  },
  {
   "cell_type": "code",
   "execution_count": 11,
   "id": "7420b149-d226-4e42-92b1-e03f67b192e9",
   "metadata": {},
   "outputs": [
    {
     "data": {
      "text/plain": [
       "7262"
      ]
     },
     "execution_count": 11,
     "metadata": {},
     "output_type": "execute_result"
    }
   ],
   "source": [
    "transcripts_df.to_sql('transcript', write_conn, if_exists='append', index=False)\n",
    "contexts_df.to_sql('context', write_conn, if_exists='append', index=False)"
   ]
  },
  {
   "cell_type": "code",
   "execution_count": 12,
   "id": "63b74cb8-1ede-4afd-a74a-fbad74fe2ce8",
   "metadata": {},
   "outputs": [],
   "source": [
    "def create_transcript_context_view(new_view_name, transcript_table, context_table):    \n",
    "    create_view_sql = f\"\"\"\n",
    "    CREATE VIEW IF NOT EXISTS {new_view_name} AS\n",
    "    SELECT transcript.transcript_id as transcript_id,\n",
    "        {transcript_table}.case_facts as case_facts,\n",
    "        {transcript_table}.legal_question as legal_question,\n",
    "        {context_table}.context_id as context_id,\n",
    "        {context_table}.context as context,\n",
    "        {context_table}.justice as justice,\n",
    "        {context_table}.turn_text as turn_text\n",
    "    FROM {transcript_table}\n",
    "    JOIN {context_table} ON {transcript_table}.transcript_id = {context_table}.transcript_id;\n",
    "    \"\"\"\n",
    "\n",
    "    cur.execute(create_view_sql)\n",
    "    write_conn.commit()\n",
    "\n",
    "create_transcript_context_view(\"transcript_and_context\", \"transcript\", \"context\")"
   ]
  },
  {
   "cell_type": "code",
   "execution_count": 14,
   "id": "a86d3c37-d474-4b5e-b468-ad26132e3f3f",
   "metadata": {},
   "outputs": [],
   "source": [
    "def create_remark_transcript_context_view(new_view_name, transcript_table, context_table, remark_table):\n",
    "    create_view_sql = f\"\"\"CREATE VIEW IF NOT EXISTS {new_view_name} AS\n",
    "    SELECT\n",
    "        {remark_table}.remark_id as remark_id,\n",
    "        {remark_table}.justice as justice,\n",
    "        {remark_table}.remark_text as remark_text,\n",
    "        {remark_table}.log_id as remark_log_id,\n",
    "        {context_table}.context as context,\n",
    "        {transcript_table}.case_facts as case_facts,\n",
    "        {transcript_table}.legal_question as legal_question\n",
    "    FROM remark\n",
    "    JOIN context ON remark.context_id = context.context_id\n",
    "    JOIN transcript ON context.transcript_id = transcript.transcript_id;\n",
    "    \"\"\"\n",
    "    cur.execute(create_view_sql)\n",
    "    write_conn.commit()\n",
    "\n",
    "create_remark_transcript_context_view(\"remark_transcript_context\", \"transcript\", \"context\", \"remark\")"
   ]
  },
  {
   "cell_type": "code",
   "execution_count": null,
   "id": "7540035f-376f-40db-b2a9-6ad7c3befab2",
   "metadata": {},
   "outputs": [],
   "source": []
  }
 ],
 "metadata": {
  "kernelspec": {
   "display_name": "llama_finetuning_env [~/.conda/envs/llama_finetuning_env/]",
   "language": "python",
   "name": "conda_llama_finetuning_env"
  },
  "language_info": {
   "codemirror_mode": {
    "name": "ipython",
    "version": 3
   },
   "file_extension": ".py",
   "mimetype": "text/x-python",
   "name": "python",
   "nbconvert_exporter": "python",
   "pygments_lexer": "ipython3",
   "version": "3.11.11"
  }
 },
 "nbformat": 4,
 "nbformat_minor": 5
}
