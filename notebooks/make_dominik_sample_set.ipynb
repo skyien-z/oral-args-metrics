{
 "cells": [
  {
   "cell_type": "code",
   "execution_count": 2,
   "id": "8a061896-41fe-4480-86f2-65503c542349",
   "metadata": {},
   "outputs": [],
   "source": [
    "import pandas as pd\n",
    "import sqlite3"
   ]
  },
  {
   "cell_type": "code",
   "execution_count": 6,
   "id": "3c769ff3-8cb0-40c7-b18e-83eb037181e9",
   "metadata": {},
   "outputs": [],
   "source": [
    "conn = sqlite3.connect(\"../data/backups/week1_hundred_samples_run.db\")\n",
    "df = pd.read_sql(\"SELECT c.context, c.justice, t.case_facts, t.legal_question, r.model, r.prompting_strategy, r.remark_text FROM \" \\\n",
    "                \"context c LEFT JOIN transcript t on (c.transcript_id=t.transcript_id) LEFT JOIN remark r ON (c.context_id=r.context_id)\" \\\n",
    "                 \"WHERE r.context_id='2024.24-416_s0_t70'\", conn)"
   ]
  },
  {
   "cell_type": "code",
   "execution_count": 8,
   "id": "e7c1d054-af2b-4185-860d-2a297302540c",
   "metadata": {},
   "outputs": [],
   "source": [
    "df.to_csv(\"../dominik_samples_profile_overindexing\", index=False)"
   ]
  },
  {
   "cell_type": "code",
   "execution_count": null,
   "id": "2e213c8e-f478-4a4f-9456-01374135d5a2",
   "metadata": {},
   "outputs": [],
   "source": []
  }
 ],
 "metadata": {
  "kernelspec": {
   "display_name": "llama_finetuning_env [~/.conda/envs/llama_finetuning_env/]",
   "language": "python",
   "name": "conda_llama_finetuning_env"
  },
  "language_info": {
   "codemirror_mode": {
    "name": "ipython",
    "version": 3
   },
   "file_extension": ".py",
   "mimetype": "text/x-python",
   "name": "python",
   "nbconvert_exporter": "python",
   "pygments_lexer": "ipython3",
   "version": "3.11.11"
  }
 },
 "nbformat": 4,
 "nbformat_minor": 5
}
